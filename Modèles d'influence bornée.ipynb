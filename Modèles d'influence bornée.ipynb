{
 "cells": [
  {
   "cell_type": "markdown",
   "metadata": {},
   "source": [
    "# Modèles d'influence bornée"
   ]
  },
  {
   "cell_type": "markdown",
   "metadata": {},
   "source": [
    "*Sujet d'ARE Dynamic 2018 (Maximilien Danisch, Pierre Fournier, Arthur Guillon, Jean-Daniel Kant, Baptiste Lefebvre, Nicolas Maudet)*"
   ]
  },
  {
   "cell_type": "markdown",
   "metadata": {},
   "source": [
    "## Introduction"
   ]
  },
  {
   "cell_type": "markdown",
   "metadata": {},
   "source": [
    "Considérons un ensemble donné d'**individus** que l'on appelera **population**. Chacun de ces individus possède une **opinion**, c'est-à-dire un ensemble de convictions, de valeurs, de jugements, de préjugés et de croyances qui lui sont propres. Naturellement, nous pouvons nous attendre à ce que l'opinion d'un individu donné ne soit pas constamment la même au cours du temps. Au contraire, elle évolue en fonction des **rencontres** faites avec d'autres individus. Lorsque la population est suffisament grande, il est impossible  qu'un individu fasse connaissance avec tout le monde. Dans ce cas, ses rencontres se font avec un sous-ensemble d'individus appartenant à cette population que nous appelerons ses **voisins**.\n",
    "\n",
    "Dans ce contexte, une question émerge principalement :\n",
    "\n",
    "* Comment évolueront les opinions des individus au cours du temps ?\n",
    "\n"
   ]
  },
  {
   "cell_type": "markdown",
   "metadata": {},
   "source": [
    "Pour être en mesure de proposer une réponse scientifique à cette question, nous allons chercher à modéliser cette **dynamique des opinions**. Autrement dit, nous allons assembler des concepts pour représenter de manière simplifiée cette dynamique en vue de la comprendre et d’en prédire certaines caractéristiques.\n",
    "\n",
    "Pour commencer, deux questions de modélisations apparaissent immédiatement :\n",
    "\n",
    "* Comment modéliser l'opinion d'un individu ?\n",
    "* Comment modéliser le processus de mise à jour de l'opinion de cet individu ?"
   ]
  },
  {
   "cell_type": "markdown",
   "metadata": {},
   "source": [
    "Dans la première partie de l'ARE, nous allons étudier un modèle en particulier : le **modèle d'influence bornée**. Ce modèle effectue les deux hypothèses suivantes :\n",
    "\n",
    "* L'opinion d'un individu $ i $ est une valeur réelle (comprise entre $ 0 $ et $ 1 $ inclus), que nous noterons $ x_i $.\n",
    "* La mise à jour consiste à faire évoluer l'opinion d'un individu $ i $, lorsqu'il rencontre un individu $ j $, en appliquant la formule : $ x_i \\leftarrow x_i + \\mu \\cdot ( x_j - x_i ) $.\n",
    "\n",
    "Où $ \\mu $ est appelé le **paramètre de convergence**. Ce paramètre permet de contrôler la vitesse de convergence des opinions. Sa valeur est comprise entre $ 0 $ et $ 0.5 $.\n",
    "\n",
    "<!--Prenons une population donnée, discutant à propos d'un <font color='red'>sujet fixe</font>. \n",
    "Il est naturel de supposer que chaque individu se forge une opinion au contact de ses voisins. --> \n",
    "<!--Deux choix de modélisation apparaissent donc pour commencer :-->\n",
    "<!--* comment modéliser l'opinion d'un individu ?-->\n",
    "<!--* comment modéliser le processus de mise à jour de son opinion ?-->\n",
    "\n",
    "<!--Dans la première partie de cet ARE <font color='red'>vous allez</font> étudier le **modèle d'influence bornée**, qui fait les deux hypothèses suivantes : l'opinion d'un individu $i$ est une valeur réelle (comprise entre 0 et 1), que nous noterons $x_i$, et la mise à jour consiste à faire évoluer l'opinion d'un individu $i$, lorsqu'il rencontre un individu $j$, en appliquant la formule $x_i \\leftarrow x_i + \\mu \\cdot ( x_j - x_i ) $.\n",
    "Ici $\\mu$ est le paramètre qui permet de contrôler la vitesse de convergence des opinions, il est compris entre $0$ et $0.5$.--> "
   ]
  },
  {
   "cell_type": "markdown",
   "metadata": {},
   "source": [
    "Pour mieux comprendre, prenons un exemple :"
   ]
  },
  {
   "cell_type": "code",
   "execution_count": 9,
   "metadata": {
    "collapsed": true
   },
   "outputs": [],
   "source": [
    "def update_opinion(x, y, mu):\n",
    "    \"\"\"Rule to use to update the opinions.\"\"\"\n",
    "    \n",
    "    xpost = x + mu * (y - x)\n",
    "    ypost = y + mu * (x - y)\n",
    "    \n",
    "    return xpost, ypost"
   ]
  },
  {
   "cell_type": "code",
   "execution_count": 10,
   "metadata": {
    "collapsed": false
   },
   "outputs": [
    {
     "name": "stdout",
     "output_type": "stream",
     "text": [
      "xpost: 0.4\n",
      "ypost: 0.7000000000000001\n"
     ]
    }
   ],
   "source": [
    "x = 0.3\n",
    "y = 0.8\n",
    "mu = 0.2\n",
    "xpost, ypost = update_opinion(x, y, mu)\n",
    "\n",
    "print(\"xpost:\", xpost)\n",
    "print(\"ypost:\", ypost)"
   ]
  },
  {
   "cell_type": "markdown",
   "metadata": {},
   "source": [
    "**Question :** Que se passe-t-il lorsque le paramètre $ \\mu $ est égal à $ 0.5 $ ?"
   ]
  },
  {
   "cell_type": "markdown",
   "metadata": {},
   "source": [
    "**Question :** Que se passe-t-il lorsqu'il est égal à $ 0 $ ? "
   ]
  },
  {
   "cell_type": "markdown",
   "metadata": {},
   "source": [
    "Une hypothèse importante de notre modèle est donc que les mises à jour sont effectuées en **pair-à-pair**. Il s'agit d'un choix de notre part. Bien d'autres choix sont possibles ! Nous pourrions par exemple supposer qu'un individu choisisse un autre individu et adopte son opinion tel quel. Ou bien qu'il considère les opinions d'un ensemble d'autres individus (par exemple, ses **amis**) et adapte son opinion à la moyenne de leurs opinions.\n",
    "\n",
    "En effectuant un de ces autres choix nous obtiendrions une **variante** du modèle d'influence bornée. Ces variantes pourront donner lieu à des études dans la suite de l'ARE."
   ]
  },
  {
   "cell_type": "markdown",
   "metadata": {},
   "source": [
    "Pour conclure cette introduction, quelque mots concernant ce à quoi nous pouvons nous attendre. En fin de simulation nous pourrons typiquement observer deux types de résultats :\n",
    "* Un état de **consensus** lorsque tous les agents possèdent la même opinion.\n",
    "* Un état de **polarisation** lorsque des opinions divergentes subsistent dans le système."
   ]
  },
  {
   "cell_type": "markdown",
   "metadata": {},
   "source": [
    "## Modèle d'influence bornée"
   ]
  },
  {
   "cell_type": "markdown",
   "metadata": {},
   "source": [
    "**Question :** Mais quelle est cette borne dont il est question dans le nom du modèle ?"
   ]
  },
  {
   "cell_type": "markdown",
   "metadata": {},
   "source": [
    "Il s'agit en fait d'un paramètre qui permet de conditionner le changement ou non de l'opinion d'un individu. Deux individus changeront d'opinions si la différence entre leurs opinions n'est pas trop importante. Ou plus précisement si  la condition suivante est vérifiée : $ | x_i - x_j | < c $. Le paramètre $ c $ est appelé le **seuil** et permet de borner l'influence entre les individus, d'où le nom donné au modèle."
   ]
  },
  {
   "cell_type": "markdown",
   "metadata": {},
   "source": [
    "**Question :** Comment modifier la fonction précédente afin de prendre en compte ce nouveau paramètre ?"
   ]
  },
  {
   "cell_type": "code",
   "execution_count": 11,
   "metadata": {
    "collapsed": true
   },
   "outputs": [],
   "source": [
    "def bounded_update_opinion(x, y, mu, c):\n",
    "    \"\"\"Rule to use to update the opinions.\"\"\"\n",
    "    \n",
    "    # TODO to modify.\n",
    "    xpost, ypost = update_opinion(x, y, mu)\n",
    "    \n",
    "    return xpost, ypost"
   ]
  },
  {
   "cell_type": "code",
   "execution_count": 12,
   "metadata": {
    "collapsed": false
   },
   "outputs": [
    {
     "name": "stdout",
     "output_type": "stream",
     "text": [
      "xpost: 0.4\n",
      "ypost: 0.7000000000000001\n"
     ]
    }
   ],
   "source": [
    "x = 0.3\n",
    "y = 0.8\n",
    "mu = 0.2\n",
    "c = 0.1\n",
    "xpost, ypost = bounded_update_opinion(x, y, mu, c)\n",
    "\n",
    "print(\"xpost:\", xpost)\n",
    "print(\"ypost:\", ypost)"
   ]
  },
  {
   "cell_type": "markdown",
   "metadata": {},
   "source": [
    "## Dynamique des opinions"
   ]
  },
  {
   "cell_type": "markdown",
   "metadata": {},
   "source": [
    "À ce stade, il reste une composante importante du modèle à préciser. Il s'agit d'une troisième question de modélisation :\n",
    "\n",
    "- Comment modéliser les rencontres faites par un individu (i.e. quand et avec qui) ?\n",
    "\n",
    "Le choix qui sera fait à ce sujet aura un grand impact sur la dynamique des opinions que nous observerons. Il s'agit donc d'une hypothèse importante de notre modèle.\n",
    "\n",
    "Nous supposons ici que le temps est discret. Les rencontres ont lieu à chaque pas de temps. Plus spécifiquement, nous considérons une dynamique **asynchrone** : chaque paire d'individus donne lieu à une mise à jour de leurs opinions lors de leur rencontres. (Il n'y a pas de synchronisation des mises à jour entre plusieurs paires d'individus).\n",
    "\n",
    "L'ordre des rencontres pourra être **aléatoire** (par exemple en tirant une paire d'agent de manière uniforme parmi toutes les paires d'agents possibles), ou **déterministe** et fixé à l'avance (par exemple en considérant un **processus round-robin**, dans ce cas chaque individu effectura une mise à jour avec tous ses voisins). \n",
    "\n",
    "Enfin, la dynamique peut être **spatialisée**, au sens où les agents ne peuvent rencontrer que certains autres agents. Par exemple, dans le premier exemple que nous considérons ci-dessous, les agents sont disposés sur un cercle: chaque agent peut donc rencontrer deux voisins. "
   ]
  },
  {
   "cell_type": "markdown",
   "metadata": {},
   "source": [
    "## Paramètres de votre modèle"
   ]
  },
  {
   "cell_type": "markdown",
   "metadata": {},
   "source": [
    "En résumé, en plus de la dynamique choisie (i.e. règle de mise à jour et règles de réalisations des rencontres), les paramètres importants de notre modèle sont donc : \n",
    "* le nombre d'individu : `N`\n",
    "* le paramètre de convergence : `mu` \n",
    "* le seuil : `c`"
   ]
  },
  {
   "cell_type": "code",
   "execution_count": 13,
   "metadata": {
    "collapsed": true
   },
   "outputs": [],
   "source": [
    "# Global parameters\n",
    "nb_steps = 20\n",
    "N  = 5        # number of individuals\n",
    "mu = 0.5      # convergence parameter\n",
    "c  = 0.2      # threshold"
   ]
  },
  {
   "cell_type": "markdown",
   "metadata": {},
   "source": [
    "## Exemple : Dynamique aléatoire spatialisée sur un cercle"
   ]
  },
  {
   "cell_type": "code",
   "execution_count": 14,
   "metadata": {
    "collapsed": true
   },
   "outputs": [],
   "source": [
    "import numpy as np\n",
    "import matplotlib.pyplot as plt"
   ]
  },
  {
   "cell_type": "markdown",
   "metadata": {},
   "source": [
    "### Initialisation"
   ]
  },
  {
   "cell_type": "markdown",
   "metadata": {},
   "source": [
    "Il est possible d'initialiser votre système en créant une liste avec des valeurs tirées de manière uniforme entre $ 0 $ et $ 1 $."
   ]
  },
  {
   "cell_type": "code",
   "execution_count": 15,
   "metadata": {
    "collapsed": true
   },
   "outputs": [],
   "source": [
    "def init_system():\n",
    "    \"\"\"Initialize the opinions of the individuals.\"\"\"\n",
    "    \n",
    "    state = np.random.uniform(low=0.0, high=1.0, size=N)\n",
    "    \n",
    "    return state"
   ]
  },
  {
   "cell_type": "code",
   "execution_count": 16,
   "metadata": {
    "collapsed": false
   },
   "outputs": [
    {
     "name": "stdout",
     "output_type": "stream",
     "text": [
      "state: [ 0.28516173  0.53220575  0.54801303  0.31445409  0.27386621]\n"
     ]
    }
   ],
   "source": [
    "state = init_system()\n",
    "print(\"state:\", state)"
   ]
  },
  {
   "cell_type": "code",
   "execution_count": 17,
   "metadata": {
    "collapsed": false
   },
   "outputs": [
    {
     "name": "stdout",
     "output_type": "stream",
     "text": [
      "state[0]: 0.285161728465\n"
     ]
    }
   ],
   "source": [
    "print(\"state[0]:\", state[0])"
   ]
  },
  {
   "cell_type": "markdown",
   "metadata": {},
   "source": [
    "### Sélectionner aléatoirement une paire d'agent"
   ]
  },
  {
   "cell_type": "markdown",
   "metadata": {},
   "source": [
    "Dans ce modèle on va supposer que les rencontres sont aléatoires (alternativement, on pourrait supposer qu'un agent rencontre tour à tour son voisin de droite et son voisin de gauche, par exemple)"
   ]
  },
  {
   "cell_type": "code",
   "execution_count": 18,
   "metadata": {
    "collapsed": true
   },
   "outputs": [],
   "source": [
    "def sample_pair_agents():\n",
    "    \"\"\"Sample a pair of distinct consecutive agents uniformly.\"\"\"\n",
    "    \n",
    "    x = np.random.choice(N)\n",
    "    i = x % N\n",
    "    j = (x + 1) % N\n",
    "\n",
    "    return i, j"
   ]
  },
  {
   "cell_type": "code",
   "execution_count": 19,
   "metadata": {
    "collapsed": false
   },
   "outputs": [
    {
     "name": "stdout",
     "output_type": "stream",
     "text": [
      "(i, j): (4, 0)\n"
     ]
    }
   ],
   "source": [
    "print(\"(i, j):\", sample_pair_agents())"
   ]
  },
  {
   "cell_type": "markdown",
   "metadata": {},
   "source": [
    "### Passer à l'état suivant"
   ]
  },
  {
   "cell_type": "code",
   "execution_count": 20,
   "metadata": {
    "collapsed": true
   },
   "outputs": [],
   "source": [
    "def next_step(state, verbose=False):\n",
    "    \"\"\"Simulate the transition from one state to following one.\"\"\"\n",
    "\n",
    "    i, j = sample_pair_agents()\n",
    "#     next_state = state.copy()\n",
    "    state[i], state[j] = bounded_update_opinion(state[i], state[j], mu, c)\n",
    "    if verbose:\n",
    "        print(\"Agents\", i, \"and\", j, \"met.\")\n",
    "\n",
    "    return state"
   ]
  },
  {
   "cell_type": "code",
   "execution_count": 21,
   "metadata": {
    "collapsed": false
   },
   "outputs": [
    {
     "name": "stdout",
     "output_type": "stream",
     "text": [
      "Agents 3 and 4 met.\n",
      "[ 0.28516173  0.53220575  0.54801303  0.29416015  0.29416015]\n"
     ]
    }
   ],
   "source": [
    "print(next_step(state, verbose=True))"
   ]
  },
  {
   "cell_type": "markdown",
   "metadata": {},
   "source": [
    "### Simulation"
   ]
  },
  {
   "cell_type": "markdown",
   "metadata": {},
   "source": [
    "Et finalement, nous itérons un certain nombre de pas. "
   ]
  },
  {
   "cell_type": "code",
   "execution_count": 22,
   "metadata": {
    "collapsed": true
   },
   "outputs": [],
   "source": [
    "def simulate(verbose=False):\n",
    "    \"\"\"Simulate multiple transitions.\"\"\"\n",
    "    \n",
    "    results =[]\n",
    "    new_state = init_system()\n",
    "    for i in range(nb_steps):\n",
    "        new_state = next_step(new_state)\n",
    "        if verbose:\n",
    "            print(i, new_state)\n",
    "        results.append(new_state.copy())\n",
    "    \n",
    "    return results"
   ]
  },
  {
   "cell_type": "code",
   "execution_count": 23,
   "metadata": {
    "collapsed": false
   },
   "outputs": [
    {
     "name": "stdout",
     "output_type": "stream",
     "text": [
      "0 [ 0.56894978  0.54525414  0.54525414  0.06689983  0.3049582 ]\n",
      "1 [ 0.56894978  0.54525414  0.54525414  0.18592901  0.18592901]\n",
      "2 [ 0.3774394   0.54525414  0.54525414  0.18592901  0.3774394 ]\n",
      "3 [ 0.46134677  0.46134677  0.54525414  0.18592901  0.3774394 ]\n",
      "4 [ 0.46134677  0.50330045  0.50330045  0.18592901  0.3774394 ]\n",
      "5 [ 0.46134677  0.50330045  0.34461473  0.34461473  0.3774394 ]\n",
      "6 [ 0.41939308  0.50330045  0.34461473  0.34461473  0.41939308]\n",
      "7 [ 0.46134677  0.46134677  0.34461473  0.34461473  0.41939308]\n",
      "8 [ 0.46134677  0.40298075  0.40298075  0.34461473  0.41939308]\n",
      "9 [ 0.44036993  0.40298075  0.40298075  0.34461473  0.44036993]\n",
      "10 [ 0.44036993  0.40298075  0.40298075  0.34461473  0.44036993]\n",
      "11 [ 0.44036993  0.40298075  0.40298075  0.34461473  0.44036993]\n",
      "12 [ 0.44036993  0.40298075  0.37379774  0.37379774  0.44036993]\n",
      "13 [ 0.44036993  0.38838925  0.38838925  0.37379774  0.44036993]\n",
      "14 [ 0.44036993  0.38838925  0.38838925  0.37379774  0.44036993]\n",
      "15 [ 0.44036993  0.38838925  0.38838925  0.37379774  0.44036993]\n",
      "16 [ 0.44036993  0.38838925  0.38838925  0.37379774  0.44036993]\n",
      "17 [ 0.41437959  0.41437959  0.38838925  0.37379774  0.44036993]\n",
      "18 [ 0.41437959  0.40138442  0.40138442  0.37379774  0.44036993]\n",
      "19 [ 0.41437959  0.40138442  0.40138442  0.37379774  0.44036993]\n"
     ]
    },
    {
     "data": {
      "text/plain": [
       "[array([ 0.56894978,  0.54525414,  0.54525414,  0.06689983,  0.3049582 ]),\n",
       " array([ 0.56894978,  0.54525414,  0.54525414,  0.18592901,  0.18592901]),\n",
       " array([ 0.3774394 ,  0.54525414,  0.54525414,  0.18592901,  0.3774394 ]),\n",
       " array([ 0.46134677,  0.46134677,  0.54525414,  0.18592901,  0.3774394 ]),\n",
       " array([ 0.46134677,  0.50330045,  0.50330045,  0.18592901,  0.3774394 ]),\n",
       " array([ 0.46134677,  0.50330045,  0.34461473,  0.34461473,  0.3774394 ]),\n",
       " array([ 0.41939308,  0.50330045,  0.34461473,  0.34461473,  0.41939308]),\n",
       " array([ 0.46134677,  0.46134677,  0.34461473,  0.34461473,  0.41939308]),\n",
       " array([ 0.46134677,  0.40298075,  0.40298075,  0.34461473,  0.41939308]),\n",
       " array([ 0.44036993,  0.40298075,  0.40298075,  0.34461473,  0.44036993]),\n",
       " array([ 0.44036993,  0.40298075,  0.40298075,  0.34461473,  0.44036993]),\n",
       " array([ 0.44036993,  0.40298075,  0.40298075,  0.34461473,  0.44036993]),\n",
       " array([ 0.44036993,  0.40298075,  0.37379774,  0.37379774,  0.44036993]),\n",
       " array([ 0.44036993,  0.38838925,  0.38838925,  0.37379774,  0.44036993]),\n",
       " array([ 0.44036993,  0.38838925,  0.38838925,  0.37379774,  0.44036993]),\n",
       " array([ 0.44036993,  0.38838925,  0.38838925,  0.37379774,  0.44036993]),\n",
       " array([ 0.44036993,  0.38838925,  0.38838925,  0.37379774,  0.44036993]),\n",
       " array([ 0.41437959,  0.41437959,  0.38838925,  0.37379774,  0.44036993]),\n",
       " array([ 0.41437959,  0.40138442,  0.40138442,  0.37379774,  0.44036993]),\n",
       " array([ 0.41437959,  0.40138442,  0.40138442,  0.37379774,  0.44036993])]"
      ]
     },
     "execution_count": 23,
     "metadata": {},
     "output_type": "execute_result"
    }
   ],
   "source": [
    "simulate(verbose=True)"
   ]
  },
  {
   "cell_type": "markdown",
   "metadata": {},
   "source": [
    "### Visualisation"
   ]
  },
  {
   "cell_type": "markdown",
   "metadata": {},
   "source": [
    "Afin de visualiser la dynamique, il est possible ici de représenter la simulation sous la forme d'un nuage de points (c.f. [`matplotlib.pyplot.scatter`](https://matplotlib.org/api/pyplot_api.html#matplotlib.pyplot.scatter)). \n",
    "En abscisse, nous trouvons les différents pas de temps de la simulation.\n",
    "Le niveau d'opinion est représenté en ordonnée. "
   ]
  },
  {
   "cell_type": "code",
   "execution_count": null,
   "metadata": {
    "collapsed": true
   },
   "outputs": [],
   "source": [
    "%matplotlib inline\n",
    "\n",
    "results = simulate()\n",
    "for i in range(nb_steps):\n",
    "    x = i * np.ones(N)\n",
    "    y = results[i]\n",
    "    plt.scatter(x, y, s=2, c='C0')\n",
    "    plt.xlabel(\"Iteration\")\n",
    "    plt.ylabel(\"Opinion\")"
   ]
  },
  {
   "cell_type": "markdown",
   "metadata": {},
   "source": [
    "## Variante 1 : Dynamique déterministe avec graphe complet"
   ]
  },
  {
   "cell_type": "markdown",
   "metadata": {},
   "source": [
    "Dans le cas du cercle, la dynamique étudiée était aléatoire, et les interactions fortement restreintes. \n",
    "\n",
    "Dans cette première variante, vous devez modifier ces deux hypothèses (en supposant que chaque agent effectue tour à tour une mise à jour avec tous les autres individus) et étudier le comportement de votre modèle en variant les autres paramètres du modèle. Plus précisément, vous pourrez considérer les variantes suivantes: \n",
    "* Chaque agent (dans l'ordre) rencontre tous les autres agents (dans l'ordre).\n",
    "* Un agent choisi au hasard (i.e. uniformément) rencontre tous les autres agents (dans l'ordre).\n",
    "* Un agent choisi au hasard (i.e. uniformément) rencontre tous les autres agents (dans le désordre).\n",
    "\n",
    "\n"
   ]
  },
  {
   "cell_type": "code",
   "execution_count": null,
   "metadata": {
    "collapsed": true
   },
   "outputs": [],
   "source": [
    "# TODO to complete."
   ]
  },
  {
   "cell_type": "markdown",
   "metadata": {},
   "source": [
    "## Variante 2 : Dynamique aléatoire spatialisée sur une grille"
   ]
  },
  {
   "cell_type": "markdown",
   "metadata": {
    "collapsed": true
   },
   "source": [
    "Pour cette seconde variante, vous supposerez que les individus sont disposés sur une grille à deux dimensions. Les rencontres doivent être effectuées de manière aléatoire. Vous devrez également obtenir une visualisation graphique de l'évolution des opinions (c.f. figure ci-dessous). "
   ]
  },
  {
   "cell_type": "markdown",
   "metadata": {},
   "source": [
    "![state-grid-uniform-convergence](state-grid-uniform-convergence.gif)"
   ]
  },
  {
   "cell_type": "markdown",
   "metadata": {},
   "source": [
    "**Indication** : Il est recommandé d'utiliser une matrice pour représenter le système."
   ]
  },
  {
   "cell_type": "code",
   "execution_count": 31,
   "metadata": {
    "collapsed": false
   },
   "outputs": [
    {
     "data": {
      "text/plain": [
       "<matplotlib.figure.Figure at 0x7fad2c7f8438>"
      ]
     },
     "metadata": {},
     "output_type": "display_data"
    }
   ],
   "source": [
    "#TODO à compléter"
   ]
  },
  {
   "cell_type": "markdown",
   "metadata": {},
   "source": [
    "**Aide** : Afin de visualiser la dynamique du système, on pourra utiliser sans le modifier le code suivant"
   ]
  },
  {
   "cell_type": "code",
   "execution_count": 44,
   "metadata": {
    "collapsed": false
   },
   "outputs": [
    {
     "data": {
      "image/png": "[encoded data removed]",
      "text/plain": [
       "<matplotlib.figure.Figure at 0x7fad2c4defd0>"
      ]
     },
     "metadata": {},
     "output_type": "display_data"
    }
   ],
   "source": [
    "fig = plt.figure()\n",
    "\n",
    "# results[i] contient l'état au pas de temps i sous forme de matrice\n",
    "im = plt.imshow(results[0], animated=True)\n",
    "\n",
    "def updatefig(i):\n",
    "    im.set_array(results[i+1])\n",
    "    return im,\n",
    "\n",
    "ani = animation.FuncAnimation(fig, updatefig, frames=1000, interval=50, blit=True)\n",
    "HTML(ani.to_html5_video())\n",
    "# Pour sauvegarder la vidéo dans un fichier externe\n",
    "# ani.save('test.mp4', fps=30, extra_args=['-vcodec', 'libx264'])"
   ]
  },
  {
   "cell_type": "markdown",
   "metadata": {},
   "source": [
    "## Extensions"
   ]
  },
  {
   "cell_type": "markdown",
   "metadata": {},
   "source": [
    "Idées d'extensions possibles du modèle: \n",
    "* agents têtus (changent moins facilement d'avis) et/ou extrêmistes (initialisés avec une valeur 0/1)\n",
    "* influence du temps sur la dynamique"
   ]
  },
  {
   "cell_type": "markdown",
   "metadata": {},
   "source": [
    "..."
   ]
  },
  {
   "cell_type": "markdown",
   "metadata": {
    "collapsed": true
   },
   "source": [
    "## Références"
   ]
  },
  {
   "cell_type": "markdown",
   "metadata": {},
   "source": [
    "Le modèle d'influence bornée a été proposé par : \n",
    "* [Deffuant, Guillaume, et al. Mixing beliefs among interacting agents. Advances in Complex Systems 3.01n04 (2000): 87-98.](http://wwwlisc.clermont.cemagref.fr/imagesproject/finalreport/mixbel.pdf) \n",
    "* [Hegselmann, Rainer, and Ulrich Krause. Opinion dynamics and bounded confidence models, analysis, and simulation. Journal of artificial societies and social simulation 5.3 (2002).](http://jasss.soc.surrey.ac.uk/5/3/2/2.pdf)\n",
    "\n",
    "Dans le cas où les opinions des agents sont discrètes, en particulier binaires, on parle généralement de **modèle de votant** (ou **voter model**  en anglais) (c.f.[Bryan Gillespie's app](https://math.berkeley.edu/~bgillesp/apps/voter/))."
   ]
  }
 ],
 "metadata": {
  "anaconda-cloud": {},
  "kernelspec": {
   "display_name": "Python [default]",
   "language": "python",
   "name": "python3"
  },
  "language_info": {
   "codemirror_mode": {
    "name": "ipython",
    "version": 3
   },
   "file_extension": ".py",
   "mimetype": "text/x-python",
   "name": "python",
   "nbconvert_exporter": "python",
   "pygments_lexer": "ipython3",
   "version": "3.5.2"
  }
 },
 "nbformat": 4,
 "nbformat_minor": 2
}
